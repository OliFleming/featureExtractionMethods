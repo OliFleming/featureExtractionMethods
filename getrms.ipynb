{
 "cells": [
  {
   "cell_type": "code",
   "execution_count": null,
   "metadata": {},
   "outputs": [],
   "source": [
    "import pandas as pd\n",
    "import matplotlib.pyplot as plt\n",
    "import numpy as np\n",
    "import pprint as pp\n",
    "\n",
    "from os import listdir\n",
    "\n",
    "from PIL import Image\n",
    "from IPython.display import display # to display images"
   ]
  },
  {
   "cell_type": "code",
   "execution_count": 14,
   "metadata": {},
   "outputs": [
    {
     "name": "stdout",
     "output_type": "stream",
     "text": [
      "11\n",
      "winsize: 1\n"
     ]
    }
   ],
   "source": [
    "def getrms(x, winsize = 1, wininc = 2, datawin = 3, dispstatus = 4) :\n",
    "    \n",
    "    print(x)\n",
    "    \n",
    "    print('winsize: ' + str(winsize))\n",
    "    \n",
    "\n",
    "getrms(11)\n",
    "\n",
    "    "
   ]
  }
 ],
 "metadata": {
  "kernelspec": {
   "display_name": "Python 3",
   "language": "python",
   "name": "python3"
  },
  "language_info": {
   "codemirror_mode": {
    "name": "ipython",
    "version": 3
   },
   "file_extension": ".py",
   "mimetype": "text/x-python",
   "name": "python",
   "nbconvert_exporter": "python",
   "pygments_lexer": "ipython3",
   "version": "3.8.5"
  }
 },
 "nbformat": 4,
 "nbformat_minor": 4
}
